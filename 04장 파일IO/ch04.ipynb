{
 "cells": [
  {
   "cell_type": "markdown",
   "metadata": {},
   "source": [
    "#### 점프투파이썬\n",
    "---\n",
    "04장 연습문제"
   ]
  },
  {
   "cell_type": "markdown",
   "metadata": {},
   "source": [
    "> Q1\n",
    "``` py\n",
    "    주어진 자연수가 홀수인지 짝수인지 판별해 주는 함수(is_odd)를 작성해 보자.\n",
    "```"
   ]
  },
  {
   "cell_type": "code",
   "execution_count": 10,
   "metadata": {},
   "outputs": [
    {
     "name": "stdout",
     "output_type": "stream",
     "text": [
      "14은(는) 짝수입니다.\n"
     ]
    }
   ],
   "source": [
    "def is_odd(number):\n",
    "    if number % 2 == 1:\n",
    "        return True\n",
    "    else:\n",
    "        return False\n",
    "\n",
    "n = 14\n",
    "# print(is_odd(n))\n",
    "if is_odd(n):\n",
    "    print(f\"{n}은(는) 홀수입니다.\")\n",
    "else:\n",
    "    print(f\"{n}은(는) 짝수입니다.\")"
   ]
  },
  {
   "cell_type": "markdown",
   "metadata": {},
   "source": [
    "> Q2\n",
    "``` py\n",
    "    입력으로 들어오는 모든 수의 평균 값을 계산해 주는 함수를 작성해 보자. \n",
    "    (단 입력으로 들어오는 수의 개수는 정해져 있지 않다.)\n",
    "    ※ 평균 값을 구할 때 len 함수를 사용해 보자.\n",
    "```"
   ]
  },
  {
   "cell_type": "code",
   "execution_count": 22,
   "metadata": {},
   "outputs": [
    {
     "name": "stdout",
     "output_type": "stream",
     "text": [
      "평균 =  13.11\n"
     ]
    }
   ],
   "source": [
    "def get_avg(args):\n",
    "    return sum(args) / len(args)\n",
    "    \n",
    "data_in = 10.3, 12.1, 30, 3.14, 10\n",
    "\n",
    "print(\"평균 = \", round(get_avg(data_in),2)) # round______숫자는 소수점자릿수 지정"
   ]
  },
  {
   "cell_type": "markdown",
   "metadata": {},
   "source": [
    "> Q3\n",
    "``` py\n",
    "    다음은 두 개의 숫자를 입력받아 더하여 돌려주는 프로그램이다.\n",
    "\n",
    "    input1 = input(\"첫번째 숫자를 입력하세요:\")\n",
    "    input2 = input(\"두번째 숫자를 입력하세요:\")\n",
    "\n",
    "    total = input1 + input2\n",
    "    print(\"두 수의 합은 %s 입니다\" % total)\n",
    "    이 프로그램을 수행해 보자.\n",
    "\n",
    "    첫번째 숫자를 입력하세요:3\n",
    "    두번째 숫자를 입력하세요:6\n",
    "    두 수의 합은 36 입니다\n",
    "    3과 6을 입력했을 때 9가 아닌 36이라는 결괏값을 돌려주었다. \n",
    "    이 프로그램의 오류를 수정해 보자.\n",
    "```"
   ]
  },
  {
   "cell_type": "markdown",
   "metadata": {},
   "source": [
    "> Q4\n",
    "``` py\n",
    "    다음 중 출력 결과가 다른 것 한 개를 골라 보자.\n",
    "\n",
    "    1. print(\"you\" \"need\" \"python\")\n",
    "    2. print(\"you\"+\"need\"+\"python\")\n",
    "    3. print(\"you\", \"need\", \"python\")\n",
    "    4. print(\"\".join([\"you\", \"need\", \"python\"]))\n",
    "```"
   ]
  },
  {
   "cell_type": "code",
   "execution_count": 39,
   "metadata": {},
   "outputs": [
    {
     "name": "stdout",
     "output_type": "stream",
     "text": [
      "you:need:python\n",
      "you-need-python\n",
      "['you', 'need', 'python']\n",
      "<class 'list'>\n"
     ]
    },
    {
     "data": {
      "text/plain": [
       "'python'"
      ]
     },
     "execution_count": 39,
     "metadata": {},
     "output_type": "execute_result"
    }
   ],
   "source": [
    "# print(\"you\" \"need\" \"python\")\n",
    "# print(\"you\"+\"need\"+\"python\")\n",
    "# print(\"you\", \"need\", \"python\")\n",
    "\n",
    "text = \":\".join([\"you\", \"need\", \"python\"])\n",
    "print(text)\n",
    "# text = \"you:need:python\" 문자열 상수\n",
    "\n",
    "new_text = text.replace(':','-') \n",
    "# \"you-need-python\" 새롭게 생성만 되고 출력이 안되기 때문에 new_와 text.를 붙여줌\n",
    "\n",
    "print(new_text)\n",
    "\n",
    "splist = new_text.split('-')\n",
    "print(splist)\n",
    "print(type(splist))\n",
    "splist[2]"
   ]
  },
  {
   "cell_type": "markdown",
   "metadata": {},
   "source": [
    "> Q5\n",
    "``` py\n",
    "    다음은 \"test.txt\"라는 파일에 \"Life is too short\" 문자열을 저장한 후 \n",
    "    다시 그 파일을 읽어서 출력하는 프로그램이다.\n",
    "\n",
    "    f1 = open(\"test.txt\", 'w')\n",
    "    f1.write(\"Life is too short\")\n",
    "\n",
    "    f2 = open(\"test.txt\", 'r')\n",
    "    print(f2.read())\n",
    "    이 프로그램은 우리가 예상한 \"Life is too short\"라는 문장을 출력하지 않는다. \n",
    "    우리가 예상한 값을 출력할 수 있도록 프로그램을 수정해 보자.\n",
    "```"
   ]
  },
  {
   "cell_type": "code",
   "execution_count": 41,
   "metadata": {},
   "outputs": [
    {
     "name": "stdout",
     "output_type": "stream",
     "text": [
      "Life is too short\n"
     ]
    }
   ],
   "source": [
    "try\":\n",
    "f1 = open(\"test.txt\", 'w')\n",
    "f1.write(\"Life is too short\")\n",
    "\n",
    "f1.cl\n",
    "ose()\n",
    "\n",
    "f2 = open(\"test.txt\", 'r')\n",
    "print(f2.read())\n",
    "f2.close()"
   ]
  },
  {
   "cell_type": "markdown",
   "metadata": {},
   "source": [
    "> Q6\n",
    "``` py\n",
    "    사용자의 입력을 파일(test.txt)에 저장하는 프로그램을 작성해 보자. \n",
    "    (단 프로그램을 다시 실행하더라도 기존에 작성한 내용을 유지하고 새로 입력한 내용을 추가해야 한다.)\n",
    "```"
   ]
  },
  {
   "cell_type": "code",
   "execution_count": 46,
   "metadata": {},
   "outputs": [
    {
     "name": "stdout",
     "output_type": "stream",
     "text": [
      "\n",
      "안녕하세요\n",
      "안녕안녕\n"
     ]
    }
   ],
   "source": [
    "dt = input(\"메시지를 입력해주세요: \")\n",
    "# 기존 파일에 추가메세지 자정\n",
    "with open(\"text.txt\",'a',encoding = 'utf-8') as fw:\n",
    "    fw.write('\\n'+dt)\n",
    "\n",
    "with open(\"text.txt\",'r',encoding = 'utf-8') as fr:\n",
    "    print(fr.read())"
   ]
  },
  {
   "cell_type": "markdown",
   "metadata": {},
   "source": [
    "> Q7\n",
    "``` py\n",
    "    다음과 같은 내용을 지닌 파일 test.txt가 있다. \n",
    "    이 파일의 내용 중 \"java\"라는 문자열을 \"python\"으로 바꾸어서 저장해 보자.\n",
    "\n",
    "    Life is too short\n",
    "    you need java\n",
    "    ※ replace 함수를 사용해 보자.\n",
    "```"
   ]
  },
  {
   "cell_type": "code",
   "execution_count": 52,
   "metadata": {},
   "outputs": [],
   "source": [
    "with open(\"test.txt\", 'rt', encoding='utf-8') as fr:\n",
    "    data = fr.read().replace(\"java\", \"python\")\n",
    "with open(\"test.txt\",'wt', encoding='utf-8') as fw:\n",
    "    fw.write(data)"
   ]
  },
  {
   "cell_type": "markdown",
   "metadata": {},
   "source": [
    "#### 바이너리 파일 다루기"
   ]
  },
  {
   "cell_type": "code",
   "execution_count": null,
   "metadata": {},
   "outputs": [],
   "source": [
    "from urllib import request\n",
    "\n",
    "target = request.urlopen(\"https://item.kakaocdn.net/do/b5d3d6a7b67fbf5afdaffb79fffbf8b18f324a0b9c48f77dbce3a43bd11ce785\")\n",
    "bin_file = target.read()\n",
    "print(bin_file)\n",
    "\n",
    "with open(\"..\\\\source\\\\choonsik.jpg\",'wb')as f:\n",
    "    f.write(bin_file)\n",
    "    \n",
    "# 절대경로말고 상대경로를 열어야함. 사람마다 PC가 다르기 때문에\n",
    "# print(target)\n",
    "# print(type(target))"
   ]
  }
 ],
 "metadata": {
  "interpreter": {
   "hash": "4aa7a001941c8b447200068b1d71a3924cf04f02fe096f0aa27a7230a4a7f943"
  },
  "kernelspec": {
   "display_name": "Python 3.10.1 64-bit",
   "language": "python",
   "name": "python3"
  },
  "language_info": {
   "codemirror_mode": {
    "name": "ipython",
    "version": 3
   },
   "file_extension": ".py",
   "mimetype": "text/x-python",
   "name": "python",
   "nbconvert_exporter": "python",
   "pygments_lexer": "ipython3",
   "version": "3.10.1"
  },
  "orig_nbformat": 4
 },
 "nbformat": 4,
 "nbformat_minor": 2
}
