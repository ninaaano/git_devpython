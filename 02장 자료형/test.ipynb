{
 "cells": [
  {
   "cell_type": "code",
   "execution_count": 14,
   "metadata": {},
   "outputs": [
    {
     "name": "stdout",
     "output_type": "stream",
     "text": [
      "65\n",
      "66\n",
      "1\n"
     ]
    },
    {
     "data": {
      "text/plain": [
       "'0b1100001'"
      ]
     },
     "execution_count": 14,
     "metadata": {},
     "output_type": "execute_result"
    }
   ],
   "source": [
    "## i = 65 # 65를 i에 담는다가 아니라 65라는 객채가 생성되고 i 라는 변수가 그 객체의 주소를 참조한다.\n",
    "\n",
    "print(ord('A')) # 인코딩 : 문자열을 숫자로\n",
    "print(ord('B'))\n",
    "\n",
    "chr(65)\n",
    "chr(65+25) # 디코딩 : 숫자를 문자열로\n",
    "\n",
    "a = 0\n",
    "b = 1\n",
    "c = a+b\n",
    "print(c)\n",
    "\n",
    "bin(ord('a')) # 쉬프트+알트+화살표 = 복붙\n",
    "bin(ord('+'))"
   ]
  },
  {
   "cell_type": "code",
   "execution_count": 2,
   "metadata": {},
   "outputs": [
    {
     "name": "stdout",
     "output_type": "stream",
     "text": [
      "C:\\PythonDev\\name\n"
     ]
    }
   ],
   "source": [
    "path = \"C:\\PythonDev\\\\name\" # 큰따옴표로 감싸줘야 스트링이 된다.\n",
    "path = \"C:/PythonDev/name\" # 윈도우에서는 슬래쉬를 써줘도 된다.\n",
    "\n",
    "print(path) # path를 할땐 역슬래쉬를 두개써주는걸 잊지말자"
   ]
  },
  {
   "cell_type": "code",
   "execution_count": 9,
   "metadata": {},
   "outputs": [
    {
     "data": {
      "text/plain": [
       "'❤'"
      ]
     },
     "execution_count": 9,
     "metadata": {},
     "output_type": "execute_result"
    }
   ],
   "source": [
    "\"❤\" * 10 # 윈도우 + 세미콜론키 = 이모지\n",
    "ord('A')\n",
    "ord('한')\n",
    "ord(\"❤\") # 인코딩\n",
    "\n",
    "chr(10084) # 디코딩"
   ]
  },
  {
   "cell_type": "code",
   "execution_count": 26,
   "metadata": {},
   "outputs": [
    {
     "data": {
      "text/plain": [
       "5"
      ]
     },
     "execution_count": 26,
     "metadata": {},
     "output_type": "execute_result"
    }
   ],
   "source": [
    "# 인덱싱과 슬라이싱\n",
    "#       0123456789012345678901234567890123\n",
    "text = \"Life is too short, You need python\"\n",
    "\n",
    "text[19]\n",
    "text[0]\n",
    "# text[-1] # 맨마지막\n",
    "text[-1]  == text[33] # true\n",
    "\n",
    "# text[시작인덱스 : 끝인덱스] = 시작 <=   < 끝\n",
    "# 컨트롤+/ = 자동으로 주석처리\n",
    "\n",
    "text[0 : 3 + 1]\n",
    "text[28:]\n",
    "text[:4]\n",
    "text[:]\n",
    "text\n",
    "\n",
    "li = [1, 2, 3, 4, 5]\n",
    "li[:2+1]\n",
    "li[-1]"
   ]
  },
  {
   "cell_type": "code",
   "execution_count": 33,
   "metadata": {},
   "outputs": [
    {
     "name": "stdout",
     "output_type": "stream",
     "text": [
      "영희님의 국어점수는 95점 입니다.\n",
      "철수님의 국어점수는 80점 입니다.\n",
      "길동님의 국어점수는 90점 입니다.\n",
      "민수님의 국어점수는 70점 입니다.\n",
      "존님의 국어점수는 50점 입니다.\n"
     ]
    }
   ],
   "source": [
    "# 문자열 포매팅\n",
    "\n",
    "name = [\"영희\", \"철수\", \"길동\", \"민수\", \"존\"]\n",
    "subject = \"국어\" \n",
    "score = [95, 80, 90, 70, 50]\n",
    "#               0, 1, 2\n",
    "for n in range(len(name)) :\n",
    "    text = \"%s님의 %s점수는 %d점 입니다.\" %(name[n], subject, score[n])\n",
    "    print(text)"
   ]
  },
  {
   "cell_type": "code",
   "execution_count": 36,
   "metadata": {},
   "outputs": [
    {
     "name": "stdout",
     "output_type": "stream",
     "text": [
      "영희님의 수학점수는 95점 입니다.\n"
     ]
    }
   ],
   "source": [
    "# \"문자열\".format()\n",
    "name = \"영희\"\n",
    "sub = \"수학\"\n",
    "score = 95\n",
    "\n",
    "text = \"{}님의 {}점수는 {}점 입니다.\".format(name, sub, score)\n",
    "print(text)"
   ]
  },
  {
   "cell_type": "code",
   "execution_count": 37,
   "metadata": {},
   "outputs": [
    {
     "name": "stdout",
     "output_type": "stream",
     "text": [
      "영희님의 수학점수는 95점 입니다.\n"
     ]
    }
   ],
   "source": [
    "name = \"영희\"\n",
    "sub = \"수학\"\n",
    "score = 95\n",
    "\n",
    "text = f\"{name}님의 {sub}점수는 {score}점 입니다.\"\n",
    "print(text)"
   ]
  }
 ],
 "metadata": {
  "interpreter": {
   "hash": "8931d08a56ba8ec5bd4013e6d6c9066a90d099ecd0b9731835efa4c48cf46a24"
  },
  "kernelspec": {
   "display_name": "Python 3.10.1 64-bit",
   "language": "python",
   "name": "python3"
  },
  "language_info": {
   "codemirror_mode": {
    "name": "ipython",
    "version": 3
   },
   "file_extension": ".py",
   "mimetype": "text/x-python",
   "name": "python",
   "nbconvert_exporter": "python",
   "pygments_lexer": "ipython3",
   "version": "3.10.1"
  },
  "orig_nbformat": 4
 },
 "nbformat": 4,
 "nbformat_minor": 2
}
