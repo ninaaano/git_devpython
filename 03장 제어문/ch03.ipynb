{
 "cells": [
  {
   "cell_type": "markdown",
   "metadata": {},
   "source": [
    "#### 점프투파이썬\n",
    "---\n",
    "03장 연습문제"
   ]
  },
  {
   "cell_type": "markdown",
   "metadata": {},
   "source": [
    "> Q1\n",
    "``` py\n",
    "    다음 코드의 결괏값은 무엇일까?\n",
    "\n",
    "    a = \"Life is too short, you need python\"\n",
    "\n",
    "    if \"wife\" in a: print(\"wife\")\n",
    "    elif \"python\" in a and \"you\" not in a: print(\"python\")\n",
    "    elif \"shirt\" not in a: print(\"shirt\")\n",
    "    elif \"need\" in a: print(\"need\")\n",
    "    else: print(\"none\")\n",
    "```"
   ]
  },
  {
   "cell_type": "code",
   "execution_count": 4,
   "metadata": {},
   "outputs": [
    {
     "name": "stdout",
     "output_type": "stream",
     "text": [
      "False\n"
     ]
    }
   ],
   "source": [
    "a = \"Life is too short, you need python\"\n",
    "\n",
    "# 쉬프트+탭 = 반대로 들여쓰기\n",
    "if \"wife\" in a: \n",
    "    print(\"wife\")\n",
    "elif \"python\" in a and \"you\" not in a: \n",
    "    print(\"python\")\n",
    "elif \"shirt\" not in a: \n",
    "    print(\"shirt\")\n",
    "elif \"need\" in a: \n",
    "    print(\"need\")\n",
    "else: \n",
    "    print(\"none\")\n",
    "\n",
    "    # 실행흐름이 중요하다"
   ]
  },
  {
   "cell_type": "markdown",
   "metadata": {},
   "source": [
    "> Q2\n",
    "``` py\n",
    "    while문을 사용해 1부터 1000까지의 자연수 중 3의 배수의 합을 구해 보자.\n",
    "```"
   ]
  },
  {
   "cell_type": "code",
   "execution_count": 16,
   "metadata": {},
   "outputs": [
    {
     "name": "stdout",
     "output_type": "stream",
     "text": [
      "1~1000까지 3의 배수의 합은 166833 입니다.\n"
     ]
    }
   ],
   "source": [
    "\n",
    "# list를 만드는 방법\n",
    "# if i % 3 == 0:\n",
    "# range(1,1000) #range = 범위\n",
    "# li = list(range(1,1000 +1))\n",
    "# 리스트 내포(list comprehention) : [i for~ if~]\n",
    "\n",
    "li = [i for i in range(1,1000 +1) if i % 3 == 0 ]\n",
    "# [3,6,9,13,15.....999]\n",
    "\n",
    "# print(f\"1~1000까지 3의 배수의 합은 {sum(li)} 입니다.\") 이렇게도 가능\n",
    "print(\"1~1000까지 3의 배수의 합은 {} 입니다.\".format(sum(li)))\n",
    "\n",
    "# total = 0\n",
    "# for i in li:\n",
    "#     if i % 3 == 0:\n",
    "#         total += i\n"
   ]
  },
  {
   "cell_type": "code",
   "execution_count": 19,
   "metadata": {},
   "outputs": [
    {
     "name": "stdout",
     "output_type": "stream",
     "text": [
      "[1, 9, 25, 49, 81]\n"
     ]
    }
   ],
   "source": [
    "print([i**2 for i in range(1, 10+1) if i % 2 == 1]) # 리스트 내포"
   ]
  },
  {
   "cell_type": "markdown",
   "metadata": {},
   "source": [
    "> Q3\n",
    "``` py\n",
    "    while문을 사용하여 다음과 같이 별(*)을 표시하는 프로그램을 작성해 보자.\n",
    "\n",
    "    *\n",
    "    **\n",
    "    ***\n",
    "    ****\n",
    "    *****\n",
    "```"
   ]
  },
  {
   "cell_type": "code",
   "execution_count": null,
   "metadata": {},
   "outputs": [],
   "source": [
    "i = 0\n",
    "while i < 5:\n",
    "    print('*' * (i+1))\n",
    "    i += 1"
   ]
  },
  {
   "cell_type": "code",
   "execution_count": null,
   "metadata": {},
   "outputs": [],
   "source": [
    "# for / while 반복문\n",
    "# for는 횟수 중심. 몇번 돌리는지 알고 있을때.\n",
    "# while은 조건에 대한 반복. 변수가 참임을 만족할때까지 반복."
   ]
  },
  {
   "cell_type": "code",
   "execution_count": null,
   "metadata": {},
   "outputs": [],
   "source": [
    "# i = 0\n",
    "# while i < 10:\n",
    "#     print(i+1)\n",
    "#     i += 1\n",
    "\n",
    "# for i in range(1, 10+1):\n",
    "#     print(i)"
   ]
  },
  {
   "cell_type": "markdown",
   "metadata": {},
   "source": [
    "> Q4\n",
    "``` py\n",
    "    for문을 사용해 1부터 100까지의 숫자를 출력해 보자.\n",
    "```"
   ]
  },
  {
   "cell_type": "code",
   "execution_count": 39,
   "metadata": {},
   "outputs": [
    {
     "name": "stdout",
     "output_type": "stream",
     "text": [
      "010-1234-5678\n"
     ]
    }
   ],
   "source": [
    "for i in range (1, 100+1):\n",
    "    print(i, end=', ')\n",
    "\n",
    "# print(\"010\", \"1234\", \"5678\", sep='-') # . 아니고 , "
   ]
  },
  {
   "cell_type": "markdown",
   "metadata": {},
   "source": [
    "> Q5\n",
    "``` py\n",
    "    A 학급에 총 10명의 학생이 있다. 이 학생들의 중간고사 점수는 다음과 같다.\n",
    "    [70, 60, 55, 75, 95, 90, 80, 80, 85, 100]\n",
    "    for문을 사용하여 A 학급의 평균 점수를 구해 보자.\n",
    "```"
   ]
  },
  {
   "cell_type": "code",
   "execution_count": 43,
   "metadata": {},
   "outputs": [],
   "source": [
    "scores = [70, 60, 55, 75, 95, 90, 80, 80, 85, 100]\n",
    "# avg = sum(scores) / len(scores)\n",
    "# print(avg)\n",
    "\n",
    "#        range(100) : 0~99\n",
    "total = 0\n",
    "for i in range(len(scores)): # i = 0 ~ 9\n",
    "    total += scores[i]\n",
    "# 50,100번 돌릴거면 len 사용\n",
    "for s in scores:\n",
    "    total += s\n",
    "# "
   ]
  },
  {
   "cell_type": "markdown",
   "metadata": {},
   "source": [
    "> Q6\n",
    "``` py\n",
    "    리스트 중에서 홀수에만 2를 곱하여 저장하는 다음 코드가 있다.\n",
    "\n",
    "    numbers = [1, 2, 3, 4, 5]\n",
    "    result = []\n",
    "    for n in numbers:\n",
    "        if n % 2 == 1:\n",
    "            result.append(n*2)\n",
    "    위 코드를 리스트 내포(list comprehension)를 사용하여 표현해 보자.\n",
    "```"
   ]
  },
  {
   "cell_type": "code",
   "execution_count": 47,
   "metadata": {},
   "outputs": [
    {
     "name": "stdout",
     "output_type": "stream",
     "text": [
      "result = [2, 6, 10]\n",
      "new_result = [2, 6, 10]\n"
     ]
    }
   ],
   "source": [
    "# numbers = [1,2,3,4,5]\n",
    "# result = [2,6,10]\n",
    "\n",
    "numbers = [1, 2, 3, 4, 5]\n",
    "result = []\n",
    "for n in numbers:\n",
    "    if n % 2 == 1:\n",
    "        result.append(n*2)\n",
    "print(\"result =\",result)\n",
    "\n",
    "new_result = [n*2 for n in numbers if n % 2 == 1]\n",
    "print(\"new_result =\",new_result)"
   ]
  }
 ],
 "metadata": {
  "interpreter": {
   "hash": "4aa7a001941c8b447200068b1d71a3924cf04f02fe096f0aa27a7230a4a7f943"
  },
  "kernelspec": {
   "display_name": "Python 3.10.1 64-bit",
   "language": "python",
   "name": "python3"
  },
  "language_info": {
   "codemirror_mode": {
    "name": "ipython",
    "version": 3
   },
   "file_extension": ".py",
   "mimetype": "text/x-python",
   "name": "python",
   "nbconvert_exporter": "python",
   "pygments_lexer": "ipython3",
   "version": "3.10.1"
  },
  "orig_nbformat": 4
 },
 "nbformat": 4,
 "nbformat_minor": 2
}
